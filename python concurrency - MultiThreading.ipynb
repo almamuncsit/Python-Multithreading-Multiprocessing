{
 "cells": [
  {
   "cell_type": "code",
   "execution_count": 6,
   "metadata": {},
   "outputs": [],
   "source": [
    "import time\n",
    "import threading"
   ]
  },
  {
   "cell_type": "code",
   "execution_count": 8,
   "metadata": {},
   "outputs": [
    {
     "name": "stdout",
     "output_type": "stream",
     "text": [
      "Sleeping 1 second\n",
      "Sleeping 1 second\n",
      "Done Sleeping\n",
      "Done Sleeping\n",
      "Finished in 1.01 second(s)\n"
     ]
    }
   ],
   "source": [
    "start = time.perf_counter()\n",
    "\n",
    "def do_something():\n",
    "    print('Sleeping 1 second')\n",
    "    time.sleep(1)\n",
    "    print('Done Sleeping')\n",
    "\n",
    "\n",
    "t1 = threading.Thread(target=do_something)\n",
    "t2 = threading.Thread(target=do_something)\n",
    "\n",
    "t1.start()\n",
    "t2.start()\n",
    "\n",
    "t1.join()\n",
    "t2.join()\n",
    "\n",
    "finish = time.perf_counter()\n",
    "\n",
    "print(f'Finished in {round(finish - start, 2)} second(s)')"
   ]
  },
  {
   "cell_type": "markdown",
   "metadata": {},
   "source": [
    "## Running thread inside loop"
   ]
  },
  {
   "cell_type": "code",
   "execution_count": 10,
   "metadata": {},
   "outputs": [
    {
     "name": "stdout",
     "output_type": "stream",
     "text": [
      "Sleeping 1 second\n",
      "Sleeping 1 second\n",
      "Sleeping 1 second\n",
      "Sleeping 1 second\n",
      "Sleeping 1 second\n",
      "Sleeping 1 second\n",
      "Sleeping 1 second\n",
      "Sleeping 1 second\n",
      "Sleeping 1 second\n",
      "Sleeping 1 second\n",
      "Done Sleeping\n",
      "Done Sleeping\n",
      "Done Sleeping\n",
      "Done Sleeping\n",
      "Done SleepingDone Sleeping\n",
      "\n",
      "Done SleepingDone Sleeping\n",
      "Done Sleeping\n",
      "\n",
      "Done Sleeping\n",
      "Finished in 1.03 second(s)\n"
     ]
    }
   ],
   "source": [
    "start = time.perf_counter()\n",
    "\n",
    "threads = []\n",
    "\n",
    "for _ in range(10):\n",
    "    t = threading.Thread(target=do_something)\n",
    "    t.start()\n",
    "    threads.append(t)\n",
    "\n",
    "for thread in threads:\n",
    "    thread.join()\n",
    "    \n",
    "finish = time.perf_counter()\n",
    "\n",
    "print(f'Finished in {round(finish - start, 2)} second(s)')"
   ]
  },
  {
   "cell_type": "markdown",
   "metadata": {},
   "source": [
    "## Passing Arguments"
   ]
  },
  {
   "cell_type": "code",
   "execution_count": 11,
   "metadata": {},
   "outputs": [
    {
     "name": "stdout",
     "output_type": "stream",
     "text": [
      "Sleeping 2 second\n",
      "Sleeping 2 second\n",
      "Sleeping 2 second\n",
      "Sleeping 2 second\n",
      "Sleeping 2 secondSleeping 2 second\n",
      "\n",
      "Sleeping 2 second\n",
      "Sleeping 2 second\n",
      "Sleeping 2 second\n",
      "Sleeping 2 second\n",
      "Done Sleeping\n",
      "Done Sleeping\n",
      "Done Sleeping\n",
      "Done Sleeping\n",
      "Done SleepingDone Sleeping\n",
      "\n",
      "Done Sleeping\n",
      "Done SleepingDone Sleeping\n",
      "\n",
      "Done Sleeping\n",
      "Finished in 2.05 second(s)\n"
     ]
    }
   ],
   "source": [
    "start = time.perf_counter()\n",
    "\n",
    "def do_otherthing( seconds ):\n",
    "    print(f'Sleeping {seconds} second')\n",
    "    time.sleep(seconds)\n",
    "    print('Done Sleeping')\n",
    "\n",
    "\n",
    "threads = []\n",
    "\n",
    "for _ in range(10):\n",
    "    t = threading.Thread(target=do_otherthing, args=[2])\n",
    "    t.start()\n",
    "    threads.append(t)\n",
    "\n",
    "for thread in threads:\n",
    "    thread.join()\n",
    "\n",
    "finish = time.perf_counter()\n",
    "\n",
    "print(f'Finished in {round(finish - start, 2)} second(s)')"
   ]
  },
  {
   "cell_type": "markdown",
   "metadata": {},
   "source": [
    "## Runing Concurrentcy with concurrent.futures"
   ]
  },
  {
   "cell_type": "code",
   "execution_count": 18,
   "metadata": {},
   "outputs": [
    {
     "name": "stdout",
     "output_type": "stream",
     "text": [
      "Sleeping 1 second\n",
      "Sleeping 1 second\n",
      "Done Sleeping\n",
      "Done Sleeping\n",
      "Finished in 1.01 second(s)\n"
     ]
    }
   ],
   "source": [
    "import concurrent.futures\n",
    "\n",
    "start = time.perf_counter()\n",
    "\n",
    "def do_sleep( seconds ):\n",
    "    print(f'Sleeping {seconds} second')\n",
    "    time.sleep(seconds)\n",
    "\n",
    "    return 'Done Sleeping'\n",
    "\n",
    "\n",
    "with concurrent.futures.ThreadPoolExecutor() as executor:\n",
    "    f1 = executor.submit(do_sleep, 1)\n",
    "    f2 = executor.submit(do_sleep, 1)\n",
    "    \n",
    "    print(f1.result())\n",
    "    print(f2.result())\n",
    "\n",
    "    \n",
    "finish = time.perf_counter()\n",
    "print(f'Finished in {round(finish - start, 2)} second(s)')"
   ]
  },
  {
   "cell_type": "markdown",
   "metadata": {},
   "source": [
    "## Running loop for concurrentcy"
   ]
  },
  {
   "cell_type": "code",
   "execution_count": 21,
   "metadata": {},
   "outputs": [
    {
     "name": "stdout",
     "output_type": "stream",
     "text": [
      "Sleeping 1 second\n",
      "Sleeping 1 second\n",
      "Sleeping 1 second\n",
      "Sleeping 1 second\n",
      "Sleeping 1 second\n",
      "Done Sleeping\n",
      "Done Sleeping\n",
      "Done Sleeping\n",
      "Done Sleeping\n",
      "Done Sleeping\n",
      "Finished in 1.02 second(s)\n"
     ]
    }
   ],
   "source": [
    "import concurrent.futures\n",
    "\n",
    "start = time.perf_counter()\n",
    "\n",
    "def do_sleep( seconds ):\n",
    "    print(f'Sleeping {seconds} second')\n",
    "    time.sleep(seconds)\n",
    "\n",
    "    return 'Done Sleeping'\n",
    "\n",
    "\n",
    "with concurrent.futures.ThreadPoolExecutor() as executor:\n",
    "    resuts = [ executor.submit(do_sleep, 1) for _ in range(5) ]\n",
    "    \n",
    "    for f in concurrent.futures.as_completed(resuts):\n",
    "        print(f.result())\n",
    "    \n",
    "finish = time.perf_counter()\n",
    "print(f'Finished in {round(finish - start, 2)} second(s)')"
   ]
  },
  {
   "cell_type": "code",
   "execution_count": 24,
   "metadata": {},
   "outputs": [
    {
     "name": "stdout",
     "output_type": "stream",
     "text": [
      "Sleeping 5 second\n",
      "Sleeping 4 second\n",
      "Sleeping 3 second\n",
      "Sleeping 2 second\n",
      "Sleeping 1 second\n",
      "Finished in 5.01 second(s)\n"
     ]
    }
   ],
   "source": [
    "start = time.perf_counter()\n",
    "\n",
    "with concurrent.futures.ThreadPoolExecutor() as executor:\n",
    "    secs = [5, 4, 3, 2, 1]\n",
    "    executor.map(do_sleep, secs)\n",
    "    \n",
    "finish = time.perf_counter()\n",
    "print(f'Finished in {round(finish - start, 2)} second(s)')"
   ]
  },
  {
   "cell_type": "markdown",
   "metadata": {},
   "source": [
    "## Final best way for running multitreading"
   ]
  },
  {
   "cell_type": "code",
   "execution_count": 26,
   "metadata": {},
   "outputs": [
    {
     "name": "stdout",
     "output_type": "stream",
     "text": [
      "Sleeping 1 second\n",
      "Sleeping 1 second\n",
      "Sleeping 1 second\n",
      "Sleeping 1 second\n",
      "Sleeping 1 second\n",
      "Done Sleeping\n",
      "Done Sleeping\n",
      "Done Sleeping\n",
      "Done Sleeping\n",
      "Done Sleeping\n",
      "Finished in 1.02 second(s)\n"
     ]
    }
   ],
   "source": [
    "import concurrent.futures\n",
    "\n",
    "start = time.perf_counter()\n",
    "\n",
    "def do_sleep():\n",
    "    print(f'Sleeping 1 second')\n",
    "    time.sleep(1)\n",
    "    print('Done Sleeping')\n",
    "\n",
    "\n",
    "with concurrent.futures.ThreadPoolExecutor() as executor:\n",
    "    for _ in range(5):\n",
    "        executor.submit(do_sleep)\n",
    "    \n",
    "finish = time.perf_counter()\n",
    "print(f'Finished in {round(finish - start, 2)} second(s)')"
   ]
  },
  {
   "cell_type": "code",
   "execution_count": null,
   "metadata": {},
   "outputs": [],
   "source": []
  }
 ],
 "metadata": {
  "kernelspec": {
   "display_name": "Python 3",
   "language": "python",
   "name": "python3"
  },
  "language_info": {
   "codemirror_mode": {
    "name": "ipython",
    "version": 3
   },
   "file_extension": ".py",
   "mimetype": "text/x-python",
   "name": "python",
   "nbconvert_exporter": "python",
   "pygments_lexer": "ipython3",
   "version": "3.7.1"
  }
 },
 "nbformat": 4,
 "nbformat_minor": 2
}
