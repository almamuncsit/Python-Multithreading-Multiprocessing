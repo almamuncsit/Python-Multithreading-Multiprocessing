{
 "cells": [
  {
   "cell_type": "code",
   "execution_count": 3,
   "metadata": {},
   "outputs": [],
   "source": [
    "import requests\n",
    "import random\n",
    "import string\n",
    "import concurrent.futures\n",
    "\n",
    "def send_request():\n",
    "    url = 'https://example.com/track'\n",
    "    myobj = {\n",
    "        \"admin_email\": ''.join(random.SystemRandom().choice(string.ascii_lowercase) for _ in range(5))+\"@example.com \",\n",
    "        \"first_name\": ''.join(random.SystemRandom().choice(string.ascii_lowercase) for _ in range(8)),\n",
    "        \"hash\": random.choice([\"164c2acf-d63e-43e1-add0-3a585e75ed62\", '6fc660ff-2b2c-46d4-a5ee-d5e86a13a445']),\n",
    "        \"last_name\": ''.join(random.SystemRandom().choice(string.ascii_lowercase) for _ in range(5)),\n",
    "        \"server[mysql_version]\": random.randrange(10),\n",
    "        \"server[php_version]\": random.randrange(10),\n",
    "        \"server[software]\": random.choice(['nginx', 'apache', 'others']),\n",
    "        \"site\": ''.join(random.SystemRandom().choice(string.ascii_uppercase) for _ in range(10)) + \" \" + ''.join(random.SystemRandom().choice(string.ascii_uppercase) for _ in range(6)),\n",
    "        \"url\": \"http://\" + ''.join(random.SystemRandom().choice(string.ascii_lowercase) for _ in range(15)) + \".com\",\n",
    "        \"user_count\": random.randrange(100),\n",
    "        \"user_email\": ''.join(random.SystemRandom().choice(string.ascii_lowercase) for _ in range(15))+\"@gmail.com\",\n",
    "        \"wp[locale]\": random.choice(['en_US', 'en_BN', 'en_HN', 'en_UD']),\n",
    "        \"wp[multisite]\": random.choice(['yes', 'no']),\n",
    "        \"wp[version]\": random.randrange(10),\n",
    "        \"num_plugins\": random.randrange(10),\n",
    "        \"users\": random.randrange(10),\n",
    "        \"extra_month\": random.choice(['January', 'February', 'March']),\n",
    "        \"extra_hours\": random.randrange(10)\n",
    "    }\n",
    "    x = requests.post(url, data = myobj)\n",
    "\n",
    "    \n",
    "with concurrent.futures.ThreadPoolExecutor() as executor:\n",
    "    for _ in range(5):\n",
    "        executor.submit(send_request)"
   ]
  },
  {
   "cell_type": "markdown",
   "metadata": {},
   "source": [
    "# Deactivation"
   ]
  },
  {
   "cell_type": "code",
   "execution_count": 8,
   "metadata": {},
   "outputs": [],
   "source": [
    "import requests\n",
    "import random\n",
    "import string\n",
    "import concurrent.futures\n",
    "\n",
    "def send_request():\n",
    "    url = 'https://example.com/deactivate'\n",
    "    myobj = {\n",
    "        \"admin_email\": ''.join(random.SystemRandom().choice(string.ascii_lowercase) for _ in range(5))+\"@example.com \",\n",
    "        \"first_name\": ''.join(random.SystemRandom().choice(string.ascii_lowercase) for _ in range(8)),\n",
    "        \"hash\": random.choice([\"958afc63-99f8-4b98-b321-fcbc5cf95694\", '559bcc0d-21b4-4b34-8317-3e072badf46d']),\n",
    "        \"last_name\": ''.join(random.SystemRandom().choice(string.ascii_lowercase) for _ in range(5)),\n",
    "        \"server[mysql_version]\": random.randrange(10),\n",
    "        \"server[php_version]\": random.randrange(10),\n",
    "        \"server[software]\": random.choice(['nginx', 'apache', 'others']),\n",
    "        \"site\": ''.join(random.SystemRandom().choice(string.ascii_uppercase) for _ in range(10)) + \" \" + ''.join(random.SystemRandom().choice(string.ascii_uppercase) for _ in range(6)),\n",
    "        \"url\": \"http://\" + ''.join(random.SystemRandom().choice(string.ascii_lowercase) for _ in range(15)) + \".com\",\n",
    "        \"user_count\": random.randrange(100),\n",
    "        \"user_email\": ''.join(random.SystemRandom().choice(string.ascii_lowercase) for _ in range(15))+\"@gmail.com\",\n",
    "        \"wp[locale]\": random.choice(['en_US', 'en_BN', 'en_HN', 'en_UD']),\n",
    "        \"wp[multisite]\": random.choice(['yes', 'no']),\n",
    "        \"wp[version]\": random.randrange(10),\n",
    "        \"num_plugins\": random.randrange(10),\n",
    "        \"users\": random.randrange(10),\n",
    "        \"extra_month\": random.choice(['January', 'February', 'March']),\n",
    "        \"extra_hours\": random.randrange(10),\n",
    "        \"reason_id\": random.choice(['found-better-plugin', 'could-not-understand', 'is-not-working', 'looking-for-other']),\n",
    "        \"reason_info\": \"Lorem ipsum, or lipsum as it is sometimes known, is dummy text used in laying out print, graphic or web designs\"\n",
    "    }\n",
    "    x = requests.post(url, data = myobj)\n",
    "\n",
    "    \n",
    "with concurrent.futures.ThreadPoolExecutor() as executor:\n",
    "    for _ in range(50):\n",
    "        executor.submit(send_request)"
   ]
  },
  {
   "cell_type": "code",
   "execution_count": null,
   "metadata": {},
   "outputs": [],
   "source": []
  }
 ],
 "metadata": {
  "kernelspec": {
   "display_name": "Python 3",
   "language": "python",
   "name": "python3"
  },
  "language_info": {
   "codemirror_mode": {
    "name": "ipython",
    "version": 3
   },
   "file_extension": ".py",
   "mimetype": "text/x-python",
   "name": "python",
   "nbconvert_exporter": "python",
   "pygments_lexer": "ipython3",
   "version": "3.7.1"
  }
 },
 "nbformat": 4,
 "nbformat_minor": 2
}
