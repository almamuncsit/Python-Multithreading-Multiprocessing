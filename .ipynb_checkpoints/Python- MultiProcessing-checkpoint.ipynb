{
 "cells": [
  {
   "cell_type": "code",
   "execution_count": 1,
   "metadata": {},
   "outputs": [],
   "source": [
    "import time\n",
    "import multiprocessing"
   ]
  },
  {
   "cell_type": "code",
   "execution_count": 4,
   "metadata": {},
   "outputs": [
    {
     "name": "stdout",
     "output_type": "stream",
     "text": [
      "Sleeping 1 second\n",
      "Sleeping 1 second\n",
      "Done Sleeping\n",
      "Done Sleeping\n",
      "Finished in 1.04 second(s)\n"
     ]
    }
   ],
   "source": [
    "start = time.perf_counter()\n",
    "\n",
    "def do_something():\n",
    "    print('Sleeping 1 second')\n",
    "    time.sleep(1)\n",
    "    print('Done Sleeping')\n",
    "\n",
    "\n",
    "t1 = multiprocessing.Process(target=do_something)\n",
    "t2 = multiprocessing.Process(target=do_something)\n",
    "\n",
    "t1.start()\n",
    "t2.start()\n",
    "\n",
    "t1.join()\n",
    "t2.join()\n",
    "\n",
    "finish = time.perf_counter()\n",
    "\n",
    "print(f'Finished in {round(finish - start, 2)} second(s)')"
   ]
  },
  {
   "cell_type": "markdown",
   "metadata": {},
   "source": [
    "## Running Process inside loop"
   ]
  },
  {
   "cell_type": "code",
   "execution_count": 9,
   "metadata": {},
   "outputs": [
    {
     "name": "stdout",
     "output_type": "stream",
     "text": [
      "Sleeping 1 second\n",
      "Sleeping 1 second\n",
      "Sleeping 1 second\n",
      "Sleeping 1 second\n",
      "Sleeping 1 second\n",
      "Sleeping 1 second\n",
      "Sleeping 1 second\n",
      "Sleeping 1 second\n",
      "Sleeping 1 second\n",
      "Sleeping 1 second\n",
      "Done Sleeping\n",
      "Done Sleeping\n",
      "Done Sleeping\n",
      "Done Sleeping\n",
      "Done Sleeping\n",
      "Done Sleeping\n",
      "Done Sleeping\n",
      "Done Sleeping\n",
      "Done Sleeping\n",
      "Done Sleeping\n",
      "Finished in 1.24 second(s)\n"
     ]
    }
   ],
   "source": [
    "start = time.perf_counter()\n",
    "\n",
    "processes = []\n",
    "\n",
    "for _ in range(10):\n",
    "    t = multiprocessing.Process(target=do_something)\n",
    "    t.start()\n",
    "    processes.append(t)\n",
    "\n",
    "for process in processes:\n",
    "    process.join()\n",
    "    \n",
    "finish = time.perf_counter()\n",
    "\n",
    "print(f'Finished in {round(finish - start, 2)} second(s)')"
   ]
  },
  {
   "cell_type": "markdown",
   "metadata": {},
   "source": [
    "## Passing Arguments"
   ]
  },
  {
   "cell_type": "code",
   "execution_count": 10,
   "metadata": {},
   "outputs": [
    {
     "name": "stdout",
     "output_type": "stream",
     "text": [
      "Sleeping 2 second\n",
      "Sleeping 2 second\n",
      "Sleeping 2 second\n",
      "Sleeping 2 second\n",
      "Sleeping 2 second\n",
      "Sleeping 2 second\n",
      "Sleeping 2 second\n",
      "Sleeping 2 second\n",
      "Sleeping 2 second\n",
      "Sleeping 2 second\n",
      "Done Sleeping\n",
      "Done Sleeping\n",
      "Done Sleeping\n",
      "Done Sleeping\n",
      "Done Sleeping\n",
      "Done Sleeping\n",
      "Done Sleeping\n",
      "Done Sleeping\n",
      "Done Sleeping\n",
      "Done Sleeping\n",
      "Finished in 2.23 second(s)\n"
     ]
    }
   ],
   "source": [
    "start = time.perf_counter()\n",
    "\n",
    "def do_otherthing( seconds ):\n",
    "    print(f'Sleeping {seconds} second')\n",
    "    time.sleep(seconds)\n",
    "    print('Done Sleeping')\n",
    "\n",
    "\n",
    "processes = []\n",
    "\n",
    "for _ in range(10):\n",
    "    t = multiprocessing.Process(target=do_otherthing, args=[2])\n",
    "    t.start()\n",
    "    processes.append(t)\n",
    "\n",
    "for process in processes:\n",
    "    process.join()\n",
    "\n",
    "finish = time.perf_counter()\n",
    "\n",
    "print(f'Finished in {round(finish - start, 2)} second(s)')"
   ]
  },
  {
   "cell_type": "markdown",
   "metadata": {},
   "source": [
    "## Runing Concurrentcy Process with concurrent.futures"
   ]
  },
  {
   "cell_type": "code",
   "execution_count": 14,
   "metadata": {},
   "outputs": [
    {
     "name": "stdout",
     "output_type": "stream",
     "text": [
      "Sleeping 1 second\n",
      "Sleeping 1 second\n",
      "Sleeping 1 second\n",
      "Sleeping 1 second\n",
      "Done Sleeping\n",
      "Done Sleeping\n",
      "Done Sleeping\n",
      "Done Sleeping\n",
      "Finished in 1.07 second(s)\n"
     ]
    }
   ],
   "source": [
    "import concurrent.futures\n",
    "\n",
    "start = time.perf_counter()\n",
    "\n",
    "def do_sleep( seconds ):\n",
    "    print(f'Sleeping {seconds} second')\n",
    "    time.sleep(seconds)\n",
    "\n",
    "    return 'Done Sleeping'\n",
    "\n",
    "\n",
    "with concurrent.futures.ProcessPoolExecutor() as executor:\n",
    "    resuts = [ executor.submit(do_sleep, 1) for _ in range(4) ]\n",
    "    \n",
    "    for f in concurrent.futures.as_completed(resuts):\n",
    "        print(f.result())\n",
    "    \n",
    "finish = time.perf_counter()\n",
    "print(f'Finished in {round(finish - start, 2)} second(s)')"
   ]
  },
  {
   "cell_type": "code",
   "execution_count": 15,
   "metadata": {},
   "outputs": [
    {
     "name": "stdout",
     "output_type": "stream",
     "text": [
      "Sleeping 5 second\n",
      "Sleeping 4 second\n",
      "Sleeping 2 second\n",
      "Sleeping 3 second\n",
      "Sleeping 1 second\n",
      "Finished in 5.09 second(s)\n"
     ]
    }
   ],
   "source": [
    "start = time.perf_counter()\n",
    "\n",
    "with concurrent.futures.ProcessPoolExecutor() as executor:\n",
    "    secs = [5, 4, 3, 2, 1]\n",
    "    executor.map(do_sleep, secs)\n",
    "    \n",
    "finish = time.perf_counter()\n",
    "print(f'Finished in {round(finish - start, 2)} second(s)')"
   ]
  },
  {
   "cell_type": "markdown",
   "metadata": {},
   "source": [
    "## Final best way for running multitreading"
   ]
  },
  {
   "cell_type": "code",
   "execution_count": 16,
   "metadata": {},
   "outputs": [
    {
     "name": "stdout",
     "output_type": "stream",
     "text": [
      "Sleeping 1 second\n",
      "Sleeping 1 second\n",
      "Sleeping 1 second\n",
      "Sleeping 1 second\n",
      "Done Sleeping\n",
      "Done Sleeping\n",
      "Done Sleeping\n",
      "Done Sleeping\n",
      "Sleeping 1 second\n",
      "Done Sleeping\n",
      "Finished in 2.08 second(s)\n"
     ]
    }
   ],
   "source": [
    "import concurrent.futures\n",
    "\n",
    "start = time.perf_counter()\n",
    "\n",
    "def do_sleep():\n",
    "    print(f'Sleeping 1 second')\n",
    "    time.sleep(1)\n",
    "    print('Done Sleeping')\n",
    "\n",
    "\n",
    "with concurrent.futures.ProcessPoolExecutor() as executor:\n",
    "    for _ in range(5):\n",
    "        executor.submit(do_sleep)\n",
    "    \n",
    "finish = time.perf_counter()\n",
    "print(f'Finished in {round(finish - start, 2)} second(s)')"
   ]
  },
  {
   "cell_type": "code",
   "execution_count": null,
   "metadata": {},
   "outputs": [],
   "source": []
  }
 ],
 "metadata": {
  "kernelspec": {
   "display_name": "Python 3",
   "language": "python",
   "name": "python3"
  },
  "language_info": {
   "codemirror_mode": {
    "name": "ipython",
    "version": 3
   },
   "file_extension": ".py",
   "mimetype": "text/x-python",
   "name": "python",
   "nbconvert_exporter": "python",
   "pygments_lexer": "ipython3",
   "version": "3.7.1"
  }
 },
 "nbformat": 4,
 "nbformat_minor": 2
}
